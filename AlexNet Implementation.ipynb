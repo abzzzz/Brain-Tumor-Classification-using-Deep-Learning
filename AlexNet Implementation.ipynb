{
 "cells": [
  {
   "cell_type": "code",
   "execution_count": 61,
   "metadata": {},
   "outputs": [],
   "source": [
    "import h5py\n",
    "import numpy as np\n",
    "import os\n",
    "import matplotlib.pyplot as plt\n",
    "import tensorflow as tf\n",
    "import cv2 as cv\n",
    "#print(os.listdir('./data/'))\n",
    "noExamples = len(os.listdir('./data'))\n",
    "data = np.zeros((noExamples,224,224,1))\n",
    "labels = np.zeros((noExamples,1))\n",
    "for itemId, file in zip(range(0,noExamples),os.listdir('./data')):\n",
    "    with h5py.File('./data/'+file, 'r') as f:\n",
    "        tmpdata = np.array(f['cjdata']['image'])\n",
    "        data[itemId,:,:,:] = cv.resize(tmpdata, (224,224)).reshape(224,224,1)\n",
    "        labels[itemId] = f['cjdata']['label']\n",
    "\n"
   ]
  },
  {
   "cell_type": "code",
   "execution_count": 65,
   "metadata": {},
   "outputs": [],
   "source": [
    "x_train,x_test = data[0:600,:,:,:]/255,data[600:,:,:,:]/255\n",
    "y_train,y_test = labels[0:600], labels[600:]\n"
   ]
  },
  {
   "cell_type": "markdown",
   "metadata": {},
   "source": []
  },
  {
   "cell_type": "code",
   "execution_count": 66,
   "metadata": {},
   "outputs": [
    {
     "name": "stdout",
     "output_type": "stream",
     "text": [
      "Epoch 1/5\n",
      "600/600 [==============================] - 13s 21ms/sample - loss: 0.5477 - accuracy: 0.9417\n",
      "Epoch 2/5\n",
      "600/600 [==============================] - 13s 21ms/sample - loss: 0.0766 - accuracy: 0.9950\n",
      "Epoch 3/5\n",
      "600/600 [==============================] - 15s 25ms/sample - loss: 0.0424 - accuracy: 0.9950\n",
      "Epoch 4/5\n",
      "600/600 [==============================] - 13s 22ms/sample - loss: 0.0458 - accuracy: 0.9950\n",
      "Epoch 5/5\n",
      "600/600 [==============================] - 15s 25ms/sample - loss: 0.0414 - accuracy: 0.9950\n",
      "\n",
      "166/166 [==============================] - 1s 4ms/sample - loss: 2.5601 - accuracy: 0.6506\n"
     ]
    },
    {
     "data": {
      "text/plain": [
       "[2.560085643221714, 0.6506024]"
      ]
     },
     "execution_count": 66,
     "metadata": {},
     "output_type": "execute_result"
    }
   ],
   "source": [
    " model = tf.keras.models.Sequential([\n",
    "  tf.keras.layers.Conv2D(filters=48,kernel_size=11,strides=(2,2),padding=\"valid\", activation='relu', input_shape=(224,224,1)), \n",
    "  tf.keras.layers.MaxPool2D((2,2),padding=\"valid\"),\n",
    "  tf.keras.layers.Conv2D(filters=128,kernel_size=5,strides=(2,2),padding=\"valid\", activation='relu'), \n",
    "  tf.keras.layers.MaxPool2D((2,2),padding=\"valid\"),\n",
    "  tf.keras.layers.Conv2D(filters=192,kernel_size=3,padding=\"valid\", activation='relu'),    \n",
    "  tf.keras.layers.Conv2D(filters=192,kernel_size=3,padding=\"valid\", activation='relu'),\n",
    "  tf.keras.layers.Conv2D(filters=128,kernel_size=3,padding=\"valid\", activation='relu'),         \n",
    "  tf.keras.layers.MaxPool2D((2,2),padding=\"valid\"),\n",
    "  tf.keras.layers.Flatten(),\n",
    "  tf.keras.layers.Dense(2048, activation='tanh'),\n",
    "  tf.keras.layers.Dense(2048, activation='tanh'),\n",
    "  tf.keras.layers.Dense(1000, activation=tf.nn.softmax),\n",
    " ])\n",
    "\n",
    "model.compile(optimizer='adam',\n",
    "              loss='sparse_categorical_crossentropy',\n",
    "              metrics=['accuracy'])\n",
    "\n",
    "model.fit(x_train, y_train, epochs=5)\n",
    "print()\n",
    "model.evaluate(x_test, y_test)\n",
    "\n",
    "#print(data[0,200:210,200:210])\n",
    "#plt.imshow(data[0,:,:])\n",
    "#plt.show()\n",
    "#print(data.shape)\n",
    "#print(labels.shape)\n",
    "#print(labels)\n"
   ]
  },
  {
   "cell_type": "code",
   "execution_count": null,
   "metadata": {},
   "outputs": [],
   "source": []
  }
 ],
 "metadata": {
  "kernelspec": {
   "display_name": "Python 3",
   "language": "python",
   "name": "python3"
  },
  "language_info": {
   "codemirror_mode": {
    "name": "ipython",
    "version": 3
   },
   "file_extension": ".py",
   "mimetype": "text/x-python",
   "name": "python",
   "nbconvert_exporter": "python",
   "pygments_lexer": "ipython3",
   "version": "3.7.3"
  }
 },
 "nbformat": 4,
 "nbformat_minor": 2
}
