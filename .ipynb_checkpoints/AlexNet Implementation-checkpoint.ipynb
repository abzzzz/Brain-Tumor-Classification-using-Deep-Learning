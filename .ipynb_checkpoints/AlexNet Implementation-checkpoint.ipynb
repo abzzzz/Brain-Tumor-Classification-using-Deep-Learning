{
 "cells": [
  {
   "cell_type": "code",
   "execution_count": 42,
   "metadata": {},
   "outputs": [],
   "source": [
    "import h5py\n",
    "import numpy as np\n",
    "import os\n",
    "import matplotlib.pyplot as plt\n",
    "import tensorflow as tf\n",
    "import cv2 as cv\n",
    "#print(os.listdir('./data/'))\n",
    "noExamples = len(os.listdir('./data'))\n",
    "data = np.zeros((noExamples,224,224,1))\n",
    "labels = np.zeros((noExamples,1))\n",
    "for itemId, file in zip(range(0,noExamples),os.listdir('./data')):\n",
    "    with h5py.File('./data/'+file, 'r') as f:\n",
    "        tmpdata = np.array(f['cjdata']['image'])\n",
    "        data[itemId,:,:,:] = cv.resize(tmpdata, (224,224)).reshape(224,224,1)\n",
    "        labels[itemId] = f['cjdata']['label']\n",
    "\n"
   ]
  },
  {
   "cell_type": "code",
   "execution_count": 43,
   "metadata": {},
   "outputs": [],
   "source": [
    "x_train,x_test = data[0:700,:,:,:]/255,data[700:,:,:,:]/255\n",
    "y_train,y_test = labels[0:700], labels[700:]\n"
   ]
  },
  {
   "cell_type": "markdown",
   "metadata": {},
   "source": []
  },
  {
   "cell_type": "code",
   "execution_count": null,
   "metadata": {},
   "outputs": [
    {
     "name": "stdout",
     "output_type": "stream",
     "text": [
      "Epoch 1/5\n",
      "700/700 [==============================] - 18s 26ms/sample - loss: 16.4447 - accuracy: 0.9029\n",
      "Epoch 2/5\n",
      "700/700 [==============================] - 2496s 4s/sample - loss: 1.4612 - accuracy: 0.9757\n",
      "Epoch 3/5\n",
      "512/700 [====================>.........] - ETA: 4s - loss: 0.0320 - accuracy: 0.9980"
     ]
    }
   ],
   "source": [
    " model = tf.keras.models.Sequential([\n",
    "  tf.keras.layers.Conv2D(filters=48,kernel_size=4,padding=\"valid\", activation='relu', input_shape=(224,224,1)), \n",
    "  tf.keras.layers.Flatten(),\n",
    "  tf.keras.layers.Dense(10, activation=tf.nn.softmax),\n",
    "  \n",
    "])\n",
    "\n",
    "model.compile(optimizer='adam',\n",
    "              loss='sparse_categorical_crossentropy',\n",
    "              metrics=['accuracy'])\n",
    "\n",
    "model.fit(x_train, y_train, epochs=5)\n",
    "print()\n",
    "model.evaluate(x_test, y_test)\n",
    "\n",
    "#print(data[0,200:210,200:210])\n",
    "#plt.imshow(data[0,:,:])\n",
    "#plt.show()\n",
    "#print(data.shape)\n",
    "#print(labels.shape)\n",
    "#print(labels)\n"
   ]
  },
  {
   "cell_type": "code",
   "execution_count": null,
   "metadata": {},
   "outputs": [],
   "source": []
  }
 ],
 "metadata": {
  "kernelspec": {
   "display_name": "Python 3",
   "language": "python",
   "name": "python3"
  },
  "language_info": {
   "codemirror_mode": {
    "name": "ipython",
    "version": 3
   },
   "file_extension": ".py",
   "mimetype": "text/x-python",
   "name": "python",
   "nbconvert_exporter": "python",
   "pygments_lexer": "ipython3",
   "version": "3.7.3"
  }
 },
 "nbformat": 4,
 "nbformat_minor": 2
}
